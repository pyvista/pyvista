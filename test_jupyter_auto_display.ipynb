{
 "cells": [
  {
   "cell_type": "markdown",
   "metadata": {},
   "source": [
    "# Test PyVista Jupyter Auto Display Feature\n",
    "\n",
    "This notebook tests the new automatic display feature for PyVista plotters."
   ]
  },
  {
   "cell_type": "code",
   "execution_count": null,
   "metadata": {},
   "outputs": [],
   "source": [
    "import sys\n",
    "sys.path.insert(0, '.')\n",
    "import pyvista as pv\n",
    "\n",
    "# Set static backend for testing\n",
    "pv.set_jupyter_backend('static')\n",
    "print(f\"Current backend: {pv.global_theme.jupyter_backend}\")"
   ]
  },
  {
   "cell_type": "markdown",
   "metadata": {},
   "source": [
    "## Test 1: Simple sphere with automatic display\n",
    "\n",
    "This cell should automatically display the plotter without calling `show()`:"
   ]
  },
  {
   "cell_type": "code",
   "execution_count": null,
   "metadata": {},
   "outputs": [],
   "source": [
    "# Create a plotter with a sphere\n",
    "plotter = pv.Plotter()\n",
    "plotter.add_mesh(pv.Sphere(), color='red')\n",
    "# This should automatically display in Jupyter\n",
    "plotter"
   ]
  },
  {
   "cell_type": "markdown",
   "metadata": {},
   "source": [
    "## Test 2: Multiple objects with automatic display"
   ]
  },
  {
   "cell_type": "code",
   "execution_count": null,
   "metadata": {},
   "outputs": [],
   "source": [
    "# Create a plotter with multiple objects\n",
    "plotter2 = pv.Plotter()\n",
    "plotter2.add_mesh(pv.Cube(center=(-1, 0, 0)), color='blue')\n",
    "plotter2.add_mesh(pv.Sphere(center=(1, 0, 0)), color='green')\n",
    "plotter2.add_axes()\n",
    "# This should automatically display in Jupyter\n",
    "plotter2"
   ]
  },
  {
   "cell_type": "markdown",
   "metadata": {},
   "source": [
    "## Test 3: Traditional show() method still works"
   ]
  },
  {
   "cell_type": "code",
   "execution_count": null,
   "metadata": {},
   "outputs": [],
   "source": [
    "# Traditional show() method should still work\n",
    "plotter3 = pv.Plotter()\n",
    "plotter3.add_mesh(pv.Cone(), color='yellow')\n",
    "plotter3.show(jupyter_backend='static')"
   ]
  },
  {
   "cell_type": "markdown",
   "metadata": {},
   "source": [
    "## Test 4: Disabling auto-display with backend='none'"
   ]
  },
  {
   "cell_type": "code",
   "execution_count": null,
   "metadata": {},
   "outputs": [],
   "source": [
    "# Set backend to 'none' to disable auto-display\n",
    "pv.set_jupyter_backend('none')\n",
    "plotter4 = pv.Plotter()\n",
    "plotter4.add_mesh(pv.Cylinder(), color='purple')\n",
    "# This should NOT display automatically\n",
    "plotter4"
   ]
  },
  {
   "cell_type": "code",
   "execution_count": null,
   "metadata": {},
   "outputs": [],
   "source": [
    "# But we can still show it manually\n",
    "plotter4.show(jupyter_backend='static')"
   ]
  },
  {
   "cell_type": "markdown",
   "metadata": {},
   "source": [
    "## Test 5: Reset backend for future tests"
   ]
  },
  {
   "cell_type": "code",
   "execution_count": null,
   "metadata": {},
   "outputs": [],
   "source": [
    "# Reset backend to static for other tests\n",
    "pv.set_jupyter_backend('static')\n",
    "print(f\"Backend reset to: {pv.global_theme.jupyter_backend}\")"
   ]
  }
 ],
 "metadata": {
  "kernelspec": {
   "display_name": "Python 3",
   "language": "python",
   "name": "python3"
  },
  "language_info": {
   "codemirror_mode": {
    "name": "ipython",
    "version": 3
   },
   "file_extension": ".py",
   "mimetype": "text/x-python",
   "name": "python",
   "nbconvert_exporter": "python",
   "pygments_lexer": "ipython3",
   "version": "3.8.0"
  }
 },
 "nbformat": 4,
 "nbformat_minor": 4
}